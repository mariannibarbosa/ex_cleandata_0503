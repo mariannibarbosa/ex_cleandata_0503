{
 "cells": [
  {
   "cell_type": "code",
   "execution_count": 1,
   "id": "bccd73ef-5eee-4f1b-8ae7-fd071636bfd2",
   "metadata": {},
   "outputs": [],
   "source": [
    "import pandas as pd\n",
    "import numpy as np\n",
    "import seaborn as sns"
   ]
  },
  {
   "cell_type": "code",
   "execution_count": 2,
   "id": "bc8f4163-6bdf-460f-9d9d-336f40549e20",
   "metadata": {},
   "outputs": [
    {
     "data": {
      "text/html": [
       "<div>\n",
       "<style scoped>\n",
       "    .dataframe tbody tr th:only-of-type {\n",
       "        vertical-align: middle;\n",
       "    }\n",
       "\n",
       "    .dataframe tbody tr th {\n",
       "        vertical-align: top;\n",
       "    }\n",
       "\n",
       "    .dataframe thead th {\n",
       "        text-align: right;\n",
       "    }\n",
       "</style>\n",
       "<table border=\"1\" class=\"dataframe\">\n",
       "  <thead>\n",
       "    <tr style=\"text-align: right;\">\n",
       "      <th></th>\n",
       "      <th>First Name</th>\n",
       "      <th>Gender</th>\n",
       "      <th>Salary</th>\n",
       "      <th>Bonus %</th>\n",
       "      <th>Senior Management</th>\n",
       "      <th>Team</th>\n",
       "    </tr>\n",
       "  </thead>\n",
       "  <tbody>\n",
       "    <tr>\n",
       "      <th>0</th>\n",
       "      <td>Douglas</td>\n",
       "      <td>Male</td>\n",
       "      <td>97308</td>\n",
       "      <td>6.945</td>\n",
       "      <td>TRUE</td>\n",
       "      <td>Marketing</td>\n",
       "    </tr>\n",
       "    <tr>\n",
       "      <th>1</th>\n",
       "      <td>Thomas</td>\n",
       "      <td>Male</td>\n",
       "      <td>61933</td>\n",
       "      <td>NaN</td>\n",
       "      <td>TRUE</td>\n",
       "      <td>NaN</td>\n",
       "    </tr>\n",
       "    <tr>\n",
       "      <th>2</th>\n",
       "      <td>Maria</td>\n",
       "      <td>Female</td>\n",
       "      <td>130590</td>\n",
       "      <td>11.858</td>\n",
       "      <td>FALSE</td>\n",
       "      <td>Finance</td>\n",
       "    </tr>\n",
       "    <tr>\n",
       "      <th>3</th>\n",
       "      <td>Jerry</td>\n",
       "      <td>Male</td>\n",
       "      <td>NaN</td>\n",
       "      <td>9.34</td>\n",
       "      <td>TRUE</td>\n",
       "      <td>Finance</td>\n",
       "    </tr>\n",
       "    <tr>\n",
       "      <th>4</th>\n",
       "      <td>Larry</td>\n",
       "      <td>Male</td>\n",
       "      <td>101004</td>\n",
       "      <td>1.389</td>\n",
       "      <td>TRUE</td>\n",
       "      <td>Client Services</td>\n",
       "    </tr>\n",
       "    <tr>\n",
       "      <th>...</th>\n",
       "      <td>...</td>\n",
       "      <td>...</td>\n",
       "      <td>...</td>\n",
       "      <td>...</td>\n",
       "      <td>...</td>\n",
       "      <td>...</td>\n",
       "    </tr>\n",
       "    <tr>\n",
       "      <th>995</th>\n",
       "      <td>Henry</td>\n",
       "      <td>NaN</td>\n",
       "      <td>132483</td>\n",
       "      <td>16.655</td>\n",
       "      <td>FALSE</td>\n",
       "      <td>Distribution</td>\n",
       "    </tr>\n",
       "    <tr>\n",
       "      <th>996</th>\n",
       "      <td>Phillip</td>\n",
       "      <td>Male</td>\n",
       "      <td>42392</td>\n",
       "      <td>19.675</td>\n",
       "      <td>FALSE</td>\n",
       "      <td>Finance</td>\n",
       "    </tr>\n",
       "    <tr>\n",
       "      <th>997</th>\n",
       "      <td>Russell</td>\n",
       "      <td>Male</td>\n",
       "      <td>96914</td>\n",
       "      <td>1.421</td>\n",
       "      <td>FALSE</td>\n",
       "      <td>Product</td>\n",
       "    </tr>\n",
       "    <tr>\n",
       "      <th>998</th>\n",
       "      <td>Larry</td>\n",
       "      <td>Male</td>\n",
       "      <td>60500</td>\n",
       "      <td>11.985</td>\n",
       "      <td>FALSE</td>\n",
       "      <td>Business Development</td>\n",
       "    </tr>\n",
       "    <tr>\n",
       "      <th>999</th>\n",
       "      <td>Albert</td>\n",
       "      <td>Male</td>\n",
       "      <td>129949</td>\n",
       "      <td>10.169</td>\n",
       "      <td>TRUE</td>\n",
       "      <td>Sales</td>\n",
       "    </tr>\n",
       "  </tbody>\n",
       "</table>\n",
       "<p>1000 rows × 6 columns</p>\n",
       "</div>"
      ],
      "text/plain": [
       "    First Name  Gender  Salary Bonus % Senior Management                  Team\n",
       "0      Douglas    Male   97308   6.945              TRUE             Marketing\n",
       "1       Thomas    Male   61933     NaN              TRUE                   NaN\n",
       "2        Maria  Female  130590  11.858             FALSE               Finance\n",
       "3        Jerry    Male     NaN    9.34              TRUE               Finance\n",
       "4        Larry    Male  101004   1.389              TRUE       Client Services\n",
       "..         ...     ...     ...     ...               ...                   ...\n",
       "995      Henry     NaN  132483  16.655             FALSE          Distribution\n",
       "996    Phillip    Male   42392  19.675             FALSE               Finance\n",
       "997    Russell    Male   96914   1.421             FALSE               Product\n",
       "998      Larry    Male   60500  11.985             FALSE  Business Development\n",
       "999     Albert    Male  129949  10.169              TRUE                 Sales\n",
       "\n",
       "[1000 rows x 6 columns]"
      ]
     },
     "execution_count": 2,
     "metadata": {},
     "output_type": "execute_result"
    }
   ],
   "source": [
    "df = pd.read_csv(\"employees.csv\")\n",
    "df"
   ]
  },
  {
   "cell_type": "code",
   "execution_count": 3,
   "id": "04a061f6-464e-4eb5-965d-d29633eecf91",
   "metadata": {},
   "outputs": [
    {
     "data": {
      "text/html": [
       "<div>\n",
       "<style scoped>\n",
       "    .dataframe tbody tr th:only-of-type {\n",
       "        vertical-align: middle;\n",
       "    }\n",
       "\n",
       "    .dataframe tbody tr th {\n",
       "        vertical-align: top;\n",
       "    }\n",
       "\n",
       "    .dataframe thead th {\n",
       "        text-align: right;\n",
       "    }\n",
       "</style>\n",
       "<table border=\"1\" class=\"dataframe\">\n",
       "  <thead>\n",
       "    <tr style=\"text-align: right;\">\n",
       "      <th></th>\n",
       "      <th>First Name</th>\n",
       "      <th>Gender</th>\n",
       "      <th>Salary</th>\n",
       "      <th>Bonus %</th>\n",
       "      <th>Senior Management</th>\n",
       "      <th>Team</th>\n",
       "    </tr>\n",
       "  </thead>\n",
       "  <tbody>\n",
       "    <tr>\n",
       "      <th>0</th>\n",
       "      <td>Douglas</td>\n",
       "      <td>Male</td>\n",
       "      <td>97308</td>\n",
       "      <td>6.945</td>\n",
       "      <td>TRUE</td>\n",
       "      <td>Marketing</td>\n",
       "    </tr>\n",
       "    <tr>\n",
       "      <th>1</th>\n",
       "      <td>Thomas</td>\n",
       "      <td>Male</td>\n",
       "      <td>61933</td>\n",
       "      <td>NaN</td>\n",
       "      <td>TRUE</td>\n",
       "      <td>NaN</td>\n",
       "    </tr>\n",
       "    <tr>\n",
       "      <th>2</th>\n",
       "      <td>Maria</td>\n",
       "      <td>Female</td>\n",
       "      <td>130590</td>\n",
       "      <td>11.858</td>\n",
       "      <td>FALSE</td>\n",
       "      <td>Finance</td>\n",
       "    </tr>\n",
       "    <tr>\n",
       "      <th>3</th>\n",
       "      <td>Jerry</td>\n",
       "      <td>Male</td>\n",
       "      <td>NaN</td>\n",
       "      <td>9.34</td>\n",
       "      <td>TRUE</td>\n",
       "      <td>Finance</td>\n",
       "    </tr>\n",
       "    <tr>\n",
       "      <th>4</th>\n",
       "      <td>Larry</td>\n",
       "      <td>Male</td>\n",
       "      <td>101004</td>\n",
       "      <td>1.389</td>\n",
       "      <td>TRUE</td>\n",
       "      <td>Client Services</td>\n",
       "    </tr>\n",
       "  </tbody>\n",
       "</table>\n",
       "</div>"
      ],
      "text/plain": [
       "  First Name  Gender  Salary Bonus % Senior Management             Team\n",
       "0    Douglas    Male   97308   6.945              TRUE        Marketing\n",
       "1     Thomas    Male   61933     NaN              TRUE              NaN\n",
       "2      Maria  Female  130590  11.858             FALSE          Finance\n",
       "3      Jerry    Male     NaN    9.34              TRUE          Finance\n",
       "4      Larry    Male  101004   1.389              TRUE  Client Services"
      ]
     },
     "execution_count": 3,
     "metadata": {},
     "output_type": "execute_result"
    }
   ],
   "source": [
    "df.head()"
   ]
  },
  {
   "cell_type": "code",
   "execution_count": 4,
   "id": "9b89052e-4df6-4e78-9890-e351281d8525",
   "metadata": {},
   "outputs": [
    {
     "data": {
      "text/plain": [
       "(1000, 6)"
      ]
     },
     "execution_count": 4,
     "metadata": {},
     "output_type": "execute_result"
    }
   ],
   "source": [
    "df.shape #check the number of rows and columns of the dataset"
   ]
  },
  {
   "cell_type": "code",
   "execution_count": 5,
   "id": "3634a15f-3719-4f31-9786-055e4771af52",
   "metadata": {},
   "outputs": [
    {
     "name": "stdout",
     "output_type": "stream",
     "text": [
      "<class 'pandas.core.frame.DataFrame'>\n",
      "RangeIndex: 1000 entries, 0 to 999\n",
      "Data columns (total 6 columns):\n",
      " #   Column             Non-Null Count  Dtype \n",
      "---  ------             --------------  ----- \n",
      " 0   First Name         931 non-null    object\n",
      " 1   Gender             852 non-null    object\n",
      " 2   Salary             998 non-null    object\n",
      " 3   Bonus %            997 non-null    object\n",
      " 4   Senior Management  932 non-null    object\n",
      " 5   Team               957 non-null    object\n",
      "dtypes: object(6)\n",
      "memory usage: 47.0+ KB\n"
     ]
    }
   ],
   "source": [
    "df.info() #gives a summary of the dataframe"
   ]
  },
  {
   "cell_type": "code",
   "execution_count": 6,
   "id": "bd687ed9-10cb-4165-b94f-fbb29fc5fb2b",
   "metadata": {},
   "outputs": [
    {
     "data": {
      "text/plain": [
       "array(['TRUE', 'FALSE', nan, 'n.a.', '?'], dtype=object)"
      ]
     },
     "execution_count": 6,
     "metadata": {},
     "output_type": "execute_result"
    }
   ],
   "source": [
    "df[\"Senior Management\"].unique() #returns unique values from the selected column"
   ]
  },
  {
   "cell_type": "code",
   "execution_count": 7,
   "id": "7accec6a-bb17-4021-a364-3c28703b22d7",
   "metadata": {},
   "outputs": [
    {
     "data": {
      "text/plain": [
       "array(['97308', '61933', '130590', nan, '101004', '115163', '65476',\n",
       "       '45906', '139852', '63241', '102508', '112807', '109831', '41426',\n",
       "       '59414', '90370', '111737', '132940', '81014', '64714', '100612',\n",
       "       '90816', '125792', '97950', '37076', '37598', '122367', '124008',\n",
       "       '79529', '118780', '88657', '122340', '119082', '95734', '85182',\n",
       "       '142032', '57427', '36844', '122173', '99283', '66582', '121918',\n",
       "       '73524', '145146', '88010', '114796', '66820', '93581', '113590',\n",
       "       '94976', '41126', '49339', '40341', '83677', '102488', '130276',\n",
       "       '64715', '72670', '66851', '48866', '106862', '58112', '35203',\n",
       "       '77834', '61310', '125250', '51178', '84834', '100863', '84692',\n",
       "       '118172', '54043', '90582', '62096', '104897', '131604', '107391',\n",
       "       '114797', '115814', '137126', '47369', '35095', '148115', '83072',\n",
       "       '100238', '103495', '144887', '64088', '51082', '91719', '128771',\n",
       "       '119009', '111858', '130620', '43026', '142321', '140371',\n",
       "       '100705', '77544', '48109', '61602', '103902', '136984', '80740',\n",
       "       '91712', '42146', '68680', '133980', '37919', '147113', '42153',\n",
       "       '64363', '114767', '58698', '54585', '76189', '109095', '120204',\n",
       "       '41054', '84885', '119735', '110169', '73789', '76078', '49368',\n",
       "       '57325', '66521', '127654', '60866', '41334', '94231', '146670',\n",
       "       '106317', '109260', '134148', '43542', '95327', '112238', '132373',\n",
       "       '113850', '110194', '146129', '140013', '122717', '71715', '95322',\n",
       "       '89227', '124488', '86230', '135490', '121333', '129297', '84546',\n",
       "       '85730', '104058', '105062', '79536', '114412', '68501', '149563',\n",
       "       '103386', '89786', '52226', '134645', '59148', '42341', '142178',\n",
       "       '38989', '53754', '133772', '143499', '97058', '85446', '40297',\n",
       "       '146651', '124486', '102652', '144474', '68759', '57286', '58129',\n",
       "       '123940', '98233', '140810', '42090', '149654', '51430', '71749',\n",
       "       '85700', '57783', '36946', '99326', '109259', '131038', '121068',\n",
       "       '62719', '69268', '36067', '130581', '89661', '36643', '140558',\n",
       "       '103521', '55281', '115711', '114079', '57531', '141069', '89434',\n",
       "       '44639', '110967', '115387', '81673', '109588', '92544', '142373',\n",
       "       '83341', '98865', '120444', '71945', '109564', '78417', '106947',\n",
       "       '87298', '64579', '50905', '59728', '51685', '49542', '38375',\n",
       "       '64084', '147663', '73935', '40837', '94393', '42087', '52080',\n",
       "       '35061', '64164', '94088', '127813', '38041', '126310', '142561',\n",
       "       '70817', '59937', '106115', '82782', '104896', '133943', '83658',\n",
       "       '71896', '113732', '110485', '115118', '48696', '42676', '43586',\n",
       "       '89258', '90730', '100308', '69134', '58295', '50141', '101941',\n",
       "       '115145', '40451', '56526', '145316', '103235', '58563', '74129',\n",
       "       '74669', '97490', '104250', '94345', '82439', '51613', '105946',\n",
       "       '46080', '134610', '125104', '107281', '141521', '65931', '69989',\n",
       "       '147183', '66757', '75145', '129460', '132839', '44537', '118733',\n",
       "       '46905', '79582', '55394', '123811', '137314', '36711', '111786',\n",
       "       '72257', '71276', '38712', '46930', '125220', '121477', '86386',\n",
       "       '81308', '84810', '66775', '72145', '121604', '109510', '112117',\n",
       "       '108127', '123711', '132381', '148225', 'n.a.', '62960', '56926',\n",
       "       '41428', '115658', '76707', '60388', '45150', '58755', '76076',\n",
       "       '87760', '135119', '36759', '121723', '110061', '85074', '85799',\n",
       "       '75150', '91344', '86326', '98753', '113060', '77327', '62666',\n",
       "       '96633', '58248', '83706', '74086', '95389', '129968', '?',\n",
       "       '41549', '74287', '69906', '65078', '106406', '115913', '38092',\n",
       "       '121160', '90429', '64207', '80688', '55044', '72893', '96978',\n",
       "       '97364', '140885', '58520', '66067', '87721', '144001', '91133',\n",
       "       '67827', '81839', '81444', '137661', '112548', '111249', '114334',\n",
       "       '118906', '72979', '64172', '107024', '50167', '106995', '70492',\n",
       "       '125881', '123294', '131045', '97635', '94493', '140502', '106310',\n",
       "       '46240', '111163', '93753', '63494', '116693', '85215', '86439',\n",
       "       '62913', '38872', '124655', '113506', '109980', '91522', '42214',\n",
       "       '83159', '144082', '47885', '126232', '134598', '66604', '115194',\n",
       "       '49101', '67811', '111043', '37748', '36403', '140136', '121508',\n",
       "       '79906', '123144', '46953', '79443', '51395', '134408', '68028',\n",
       "       '149903', '79123', '104014', '65362', '50701', '144709', '53061',\n",
       "       '36697', '69244', '101036', '52119', '46666', '73437', '86318',\n",
       "       '76409', '71642', '67150', '142208', '81183', '107163', '55038',\n",
       "       '140002', '146812', '40119', '136602', '69579', '101457', '121232',\n",
       "       '102626', '137171', '88276', '43354', '125556', '59862', '74640',\n",
       "       '52875', '58789', '122897', '136032', '141958', '139917', '147635',\n",
       "       '68230', '124365', '104749', '122121', '143541', '137840', '73354',\n",
       "       '47647', '106249', '93847', '104815', '115436', '50645', '142415',\n",
       "       '37984', '71751', '135882', '46007', '117055', '58478', '121357',\n",
       "       '44857', '47322', '81077', '76394', '114356', '41831', '90187',\n",
       "       '72613', '42748', '37259', '125033', '38275', '71520', '106472',\n",
       "       '103684', '96111', '90719', '140303', '62161', '78883', '63549',\n",
       "       '63888', '97370', '66224', '97915', '86883', '37812', '56580',\n",
       "       '83895', '58047', '124889', '118840', '67780', '144677', '45724',\n",
       "       '86676', '82401', '35575', '123649', '38078', '52620', '133366',\n",
       "       '91462', '146589', '51633', '45181', '62454', '84746', '147362',\n",
       "       '80803', '117293', '105689', '93302', '102555', '51525', '41190',\n",
       "       '75484', '82726', '122319', '127297', '109290', '99150', '71930',\n",
       "       '66819', '42424', '51431', '120675', '96610', '71430', '87713',\n",
       "       '86723', '43414', '87145', '91124', '48141', '90829', '101262',\n",
       "       '41427', '56993', '114244', '81800', '118736', '66077', '35013',\n",
       "       '98393', '107111', '65673', '65482', '81919', '59277', '49501',\n",
       "       '70367', '132156', '56961', '98841', '78226', '116931', '87575',\n",
       "       '110924', '78351', '125574', '95198', '121006', '95728', '69740',\n",
       "       '91996', '98385', '90556', '50366', '84232', '100888', '141335',\n",
       "       '97691', '47266', '139754', '116236', '103405', '41453', '52730',\n",
       "       '60361', '63103', '65168', '73105', '37916', '45682', '69297',\n",
       "       '59070', '81215', '128036', '89780', '125018', '133033', '82408',\n",
       "       '131755', '128305', '147309', '74911', '47079', '82873', '134673',\n",
       "       '123591', '75598', '89831', '92430', '126956', '112467', '46665',\n",
       "       '42553', '102081', '135118', '71975', '149908', '45418', '79145',\n",
       "       '122920', '128031', '59969', '35381', '113129', '141932', '42296',\n",
       "       '63395', '125382', '113592', '46750', '90285', '53692', '100341',\n",
       "       '123876', '41643', '113760', '49473', '146141', '79459', '104496',\n",
       "       '67789', '86564', '135758', '84672', '111580', '50455', '88733',\n",
       "       '130577', '138925', '62371', '87715', '66029', '86818', '75147',\n",
       "       '105573', '41230', '117787', '88086', '139959', '93901', '50529',\n",
       "       '134988', '120941', '118753', '92799', '85718', '109517', '85550',\n",
       "       '136655', '43312', '102839', '78891', '93201', '84693', '73587',\n",
       "       '65251', '129148', '128175', '75825', '51821', '60411', '58327',\n",
       "       '46478', '123963', '79796', '83809', '77933', '51070', '97480',\n",
       "       '58357', '67165', '145988', '147417', '95003', '144187', '37888',\n",
       "       '131513', '77287', '46875', '82744', '43252', '66047', '118431',\n",
       "       '59943', '136681', '138807', '82884', '48668', '122971', '107050',\n",
       "       '138598', '149456', '128540', '61117', '100949', '46829', '69111',\n",
       "       '46602', '61181', '94963', '85789', '145274', '102841', '49665',\n",
       "       '41928', '128042', '86150', '121816', '123409', '98295', '59678',\n",
       "       '57871', '132084', '35633', '125298', '115582', '148339', '112975',\n",
       "       '36927', '70248', '141305', '72002', '102577', '113554', '47176',\n",
       "       '106428', '75181', '79047', '52970', '137979', '114360', '110306',\n",
       "       '46378', '74104', '132505', '96649', '57811', '111468', '141498',\n",
       "       '124441', '40121', '129712', '126010', '122762', '149105', '44021',\n",
       "       '42025', '59970', '145001', '102589', '47529', '148941', '91109',\n",
       "       '51923', '53954', '39335', '111371', '115057', '145357', '36749',\n",
       "       '89854', '134048', '141311', '123621', '54941', '106562', '39371',\n",
       "       '83112', '96941', '47232', '54058', '80399', '118043', '109411',\n",
       "       '97566', '69267', '87103', '98811', '149684', '71383', '81206',\n",
       "       '69112', '120672', '96511', '49325', '132175', '118037', '139570',\n",
       "       '115280', '51065', '103854', '48354', '132327', '106362', '148857',\n",
       "       '131131', '129663', '41449', '93368', '53335', '148291', '147842',\n",
       "       '105066', '139284', '63046', '89700', '108946', '98406', '108581',\n",
       "       '41808', '36837', '140850', '50426', '134120', '57292', '80633',\n",
       "       '131943', '48046', '97443', '135352', '107816', '96329', '73749',\n",
       "       '75607', '98858', '76485', '41238', '114896', '125418', '75415',\n",
       "       '90998', '142868', '135990', '57300', '73706', '85871', '96795',\n",
       "       '92242', '115149', '126924', '145329', '92587', '60263', '91406',\n",
       "       '37005', '139791', '45267', '95296', '59680', '144701', '35477',\n",
       "       '119266', '103877', '47605', '136604', '121250', '35884', '137144',\n",
       "       '102697', '61999', '45223', '54033', '126120', '99747', '71958',\n",
       "       '115566', '118369', '51667', '85858', '131423', '49538', '50369',\n",
       "       '86615', '135369', '60003', '95866', '109324', '103557', '111376',\n",
       "       '75661', '85213', '140444', '90427', '141439', '43694', '131952',\n",
       "       '96250', '63126', '44836', '70635', '137386', '104840', '75498',\n",
       "       '67471', '101914', '93712', '133472', '107351', '142410', '37385',\n",
       "       '58423', '143638', '113425', '57266', '119667', '127118', '80838',\n",
       "       '70990', '39833', '45094', '93997', '103050', '121797', '89443',\n",
       "       '35802', '68164', '93022', '105681', '43050', '44486', '63571',\n",
       "       '75423', '76381', '137359', '67656', '92436', '137954', '124566',\n",
       "       '66146', '142935', '46233', '148985', '91411', '146907', '43455',\n",
       "       '85668', '82871', '136709', '47638', '38344', '100765', '134505',\n",
       "       '112769', '56450', '98874', '132483', '42392', '96914', '60500',\n",
       "       '129949'], dtype=object)"
      ]
     },
     "execution_count": 7,
     "metadata": {},
     "output_type": "execute_result"
    }
   ],
   "source": [
    "df[\"Salary\"].unique()"
   ]
  },
  {
   "cell_type": "code",
   "execution_count": 8,
   "id": "f70b8c66-112b-4e0e-9f0b-bc5d23fb7d10",
   "metadata": {},
   "outputs": [
    {
     "data": {
      "text/plain": [
       "First Name            69\n",
       "Gender               148\n",
       "Salary                 2\n",
       "Bonus %                3\n",
       "Senior Management     68\n",
       "Team                  43\n",
       "dtype: int64"
      ]
     },
     "execution_count": 8,
     "metadata": {},
     "output_type": "execute_result"
    }
   ],
   "source": [
    "df.isnull().sum() #return how many missing values in each column"
   ]
  },
  {
   "cell_type": "code",
   "execution_count": 9,
   "id": "aa165247-b1fd-4ab6-8780-8fb358d8cc0d",
   "metadata": {},
   "outputs": [],
   "source": [
    "mvf = [\"n.a.\", \"?\", \"NA\", \"n/a\", \"na\", \"--\"] \n",
    "df = pd.read_csv(\"employees.csv\", na_values = mvf) #na_values: parameter that cleans the data atributed to mvf "
   ]
  },
  {
   "cell_type": "code",
   "execution_count": 10,
   "id": "6931e878-785a-41a1-a0fa-ec8c476f97e9",
   "metadata": {},
   "outputs": [
    {
     "data": {
      "text/plain": [
       "array([True, False, nan], dtype=object)"
      ]
     },
     "execution_count": 10,
     "metadata": {},
     "output_type": "execute_result"
    }
   ],
   "source": [
    "df[\"Senior Management\"].unique()"
   ]
  },
  {
   "cell_type": "code",
   "execution_count": 11,
   "id": "c603fc48-5e06-4f6e-aee7-fc5254076880",
   "metadata": {},
   "outputs": [
    {
     "data": {
      "text/plain": [
       "First Name            70\n",
       "Gender               149\n",
       "Salary                 5\n",
       "Bonus %                4\n",
       "Senior Management     71\n",
       "Team                  48\n",
       "dtype: int64"
      ]
     },
     "execution_count": 11,
     "metadata": {},
     "output_type": "execute_result"
    }
   ],
   "source": [
    "df.isnull().sum()"
   ]
  },
  {
   "cell_type": "code",
   "execution_count": 12,
   "id": "f0e566a9-2a84-49c1-9a1c-da7c715fab30",
   "metadata": {},
   "outputs": [],
   "source": [
    "test_df = df #creates a copy of the dataframe"
   ]
  },
  {
   "cell_type": "code",
   "execution_count": 13,
   "id": "bab1bf87-9cce-4ad5-bad6-0961515a1f77",
   "metadata": {},
   "outputs": [
    {
     "data": {
      "text/plain": [
       "First Name            70\n",
       "Gender               149\n",
       "Salary                 5\n",
       "Bonus %                4\n",
       "Senior Management     71\n",
       "Team                  48\n",
       "dtype: int64"
      ]
     },
     "execution_count": 13,
     "metadata": {},
     "output_type": "execute_result"
    }
   ],
   "source": [
    "test_df.isnull().sum()"
   ]
  },
  {
   "cell_type": "code",
   "execution_count": 14,
   "id": "dfb5954b-96ce-41a0-9aca-28970132bef4",
   "metadata": {},
   "outputs": [],
   "source": [
    "#test_df.dropna(axis = 0, how = \"any\", inplace = True)\n",
    "\n",
    "#dropna() removes all NaN values\n",
    "#axis = 0, selecting the rows\n",
    "#how = \"any\", if any value in a row is a NaN, drop the whole row\n",
    "#if inplace = True: modifies directly in the test_df"
   ]
  },
  {
   "cell_type": "code",
   "execution_count": 15,
   "id": "3ebb29d6-0670-4f96-af9f-0fe27a5c8512",
   "metadata": {},
   "outputs": [
    {
     "data": {
      "text/plain": [
       "First Name            70\n",
       "Gender               149\n",
       "Salary                 5\n",
       "Bonus %                4\n",
       "Senior Management     71\n",
       "Team                  48\n",
       "dtype: int64"
      ]
     },
     "execution_count": 15,
     "metadata": {},
     "output_type": "execute_result"
    }
   ],
   "source": [
    "test_df.isnull().sum()"
   ]
  },
  {
   "cell_type": "code",
   "execution_count": 16,
   "id": "d78d07f2-de70-43cc-8d0e-269a3aacbe95",
   "metadata": {},
   "outputs": [],
   "source": [
    "# test_df.dropna(axis = 1, how = \"any\", inplace = True)"
   ]
  },
  {
   "cell_type": "code",
   "execution_count": 17,
   "id": "add6a998-7903-4e50-8b07-cd7555f156f6",
   "metadata": {},
   "outputs": [
    {
     "data": {
      "text/plain": [
       "First Name            70\n",
       "Gender               149\n",
       "Salary                 5\n",
       "Bonus %                4\n",
       "Senior Management     71\n",
       "Team                  48\n",
       "dtype: int64"
      ]
     },
     "execution_count": 17,
     "metadata": {},
     "output_type": "execute_result"
    }
   ],
   "source": [
    "test_df.isnull().sum()"
   ]
  },
  {
   "cell_type": "code",
   "execution_count": 18,
   "id": "f2fcd83d-204f-4ed4-b5a4-6f081b2dbdea",
   "metadata": {},
   "outputs": [
    {
     "data": {
      "text/plain": [
       "(1000, 6)"
      ]
     },
     "execution_count": 18,
     "metadata": {},
     "output_type": "execute_result"
    }
   ],
   "source": [
    "test_df.shape"
   ]
  },
  {
   "cell_type": "code",
   "execution_count": 58,
   "id": "a9ee99a5-6dc2-4676-8e7d-2b6864fb2b34",
   "metadata": {},
   "outputs": [
    {
     "data": {
      "text/plain": [
       "0       97308.0\n",
       "1       61933.0\n",
       "2      130590.0\n",
       "3       90370.0\n",
       "4      101004.0\n",
       "         ...   \n",
       "995    132483.0\n",
       "996     42392.0\n",
       "997     96914.0\n",
       "998     60500.0\n",
       "999    129949.0\n",
       "Name: Salary, Length: 1000, dtype: float64"
      ]
     },
     "execution_count": 58,
     "metadata": {},
     "output_type": "execute_result"
    }
   ],
   "source": [
    "test_df[\"Salary\"].fillna(test_df[\"Salary\"].median())"
   ]
  },
  {
   "cell_type": "code",
   "execution_count": 62,
   "id": "04a4a9ee-7f99-49ef-b1b1-db601ce78012",
   "metadata": {},
   "outputs": [
    {
     "data": {
      "text/plain": [
       "0       97308.0\n",
       "1       61933.0\n",
       "2      130590.0\n",
       "3      115797.0\n",
       "4      101004.0\n",
       "         ...   \n",
       "995    132483.0\n",
       "996     42392.0\n",
       "997     96914.0\n",
       "998     60500.0\n",
       "999    129949.0\n",
       "Name: Salary, Length: 1000, dtype: float64"
      ]
     },
     "execution_count": 62,
     "metadata": {},
     "output_type": "execute_result"
    }
   ],
   "source": [
    "test_df[\"Salary\"].interpolate(method = \"linear\", direction = \"forward\")"
   ]
  },
  {
   "cell_type": "code",
   "execution_count": null,
   "id": "b68961eb-ec82-47f9-8987-7e41387b653c",
   "metadata": {},
   "outputs": [],
   "source": []
  }
 ],
 "metadata": {
  "kernelspec": {
   "display_name": "Python [conda env:base] *",
   "language": "python",
   "name": "conda-base-py"
  },
  "language_info": {
   "codemirror_mode": {
    "name": "ipython",
    "version": 3
   },
   "file_extension": ".py",
   "mimetype": "text/x-python",
   "name": "python",
   "nbconvert_exporter": "python",
   "pygments_lexer": "ipython3",
   "version": "3.12.7"
  }
 },
 "nbformat": 4,
 "nbformat_minor": 5
}
